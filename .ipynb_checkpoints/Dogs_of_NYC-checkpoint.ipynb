{
 "cells": [
  {
   "cell_type": "code",
   "execution_count": 6,
   "metadata": {},
   "outputs": [
    {
     "name": "stdout",
     "output_type": "stream",
     "text": [
      "The giphy_magic extension is already loaded. To reload it, use:\n",
      "  %reload_ext giphy_magic\n"
     ]
    }
   ],
   "source": [
    "import numpy as np\n",
    "import pandas as pd\n",
    "import matplotlib.pyplot as plt\n",
    "import seaborn as sns\n",
    "plt.style.use('ggplot')\n",
    "% matplotlib inline\n",
    "%load_ext giphy_magic\n"
   ]
  },
  {
   "cell_type": "code",
   "execution_count": 7,
   "metadata": {
    "collapsed": true
   },
   "outputs": [],
   "source": [
    "df = pd.read_csv('Dogs of NYC - WNYC.csv')"
   ]
  },
  {
   "cell_type": "code",
   "execution_count": 8,
   "metadata": {},
   "outputs": [
    {
     "data": {
      "text/html": [
       "<div>\n",
       "<style>\n",
       "    .dataframe thead tr:only-child th {\n",
       "        text-align: right;\n",
       "    }\n",
       "\n",
       "    .dataframe thead th {\n",
       "        text-align: left;\n",
       "    }\n",
       "\n",
       "    .dataframe tbody tr th {\n",
       "        vertical-align: top;\n",
       "    }\n",
       "</style>\n",
       "<table border=\"1\" class=\"dataframe\">\n",
       "  <thead>\n",
       "    <tr style=\"text-align: right;\">\n",
       "      <th></th>\n",
       "      <th>dog_name</th>\n",
       "      <th>gender</th>\n",
       "      <th>breed</th>\n",
       "      <th>birth</th>\n",
       "      <th>dominant_color</th>\n",
       "      <th>secondary_color</th>\n",
       "      <th>third_color</th>\n",
       "      <th>spayed_or_neutered</th>\n",
       "      <th>guard_or_trained</th>\n",
       "      <th>borough</th>\n",
       "      <th>zip_code</th>\n",
       "    </tr>\n",
       "  </thead>\n",
       "  <tbody>\n",
       "    <tr>\n",
       "      <th>0</th>\n",
       "      <td>Buddy</td>\n",
       "      <td>M</td>\n",
       "      <td>Afghan Hound</td>\n",
       "      <td>Jan-00</td>\n",
       "      <td>BRINDLE</td>\n",
       "      <td>BLACK</td>\n",
       "      <td>n/a</td>\n",
       "      <td>Yes</td>\n",
       "      <td>No</td>\n",
       "      <td>Manhattan</td>\n",
       "      <td>10003</td>\n",
       "    </tr>\n",
       "    <tr>\n",
       "      <th>1</th>\n",
       "      <td>Nicole</td>\n",
       "      <td>F</td>\n",
       "      <td>Afghan Hound</td>\n",
       "      <td>Jul-00</td>\n",
       "      <td>BLACK</td>\n",
       "      <td>n/a</td>\n",
       "      <td>n/a</td>\n",
       "      <td>Yes</td>\n",
       "      <td>No</td>\n",
       "      <td>Manhattan</td>\n",
       "      <td>10021</td>\n",
       "    </tr>\n",
       "    <tr>\n",
       "      <th>2</th>\n",
       "      <td>Abby</td>\n",
       "      <td>F</td>\n",
       "      <td>Afghan Hound</td>\n",
       "      <td>Nov-00</td>\n",
       "      <td>BLACK</td>\n",
       "      <td>TAN</td>\n",
       "      <td>n/a</td>\n",
       "      <td>Yes</td>\n",
       "      <td>No</td>\n",
       "      <td>Manhattan</td>\n",
       "      <td>10034</td>\n",
       "    </tr>\n",
       "    <tr>\n",
       "      <th>3</th>\n",
       "      <td>Chloe</td>\n",
       "      <td>F</td>\n",
       "      <td>Afghan Hound</td>\n",
       "      <td>Jan-02</td>\n",
       "      <td>WHITE</td>\n",
       "      <td>BLOND</td>\n",
       "      <td>n/a</td>\n",
       "      <td>Yes</td>\n",
       "      <td>No</td>\n",
       "      <td>Manhattan</td>\n",
       "      <td>10024</td>\n",
       "    </tr>\n",
       "    <tr>\n",
       "      <th>4</th>\n",
       "      <td>Jazzle</td>\n",
       "      <td>F</td>\n",
       "      <td>Afghan Hound</td>\n",
       "      <td>Oct-02</td>\n",
       "      <td>BLOND</td>\n",
       "      <td>WHITE</td>\n",
       "      <td>BLACK</td>\n",
       "      <td>Yes</td>\n",
       "      <td>No</td>\n",
       "      <td>Manhattan</td>\n",
       "      <td>10022</td>\n",
       "    </tr>\n",
       "  </tbody>\n",
       "</table>\n",
       "</div>"
      ],
      "text/plain": [
       "  dog_name gender         breed   birth dominant_color secondary_color  \\\n",
       "0    Buddy      M  Afghan Hound  Jan-00        BRINDLE           BLACK   \n",
       "1   Nicole      F  Afghan Hound  Jul-00          BLACK             n/a   \n",
       "2     Abby      F  Afghan Hound  Nov-00          BLACK             TAN   \n",
       "3    Chloe      F  Afghan Hound  Jan-02          WHITE           BLOND   \n",
       "4   Jazzle      F  Afghan Hound  Oct-02          BLOND           WHITE   \n",
       "\n",
       "  third_color spayed_or_neutered guard_or_trained    borough  zip_code  \n",
       "0         n/a                Yes               No  Manhattan     10003  \n",
       "1         n/a                Yes               No  Manhattan     10021  \n",
       "2         n/a                Yes               No  Manhattan     10034  \n",
       "3         n/a                Yes               No  Manhattan     10024  \n",
       "4       BLACK                Yes               No  Manhattan     10022  "
      ]
     },
     "execution_count": 8,
     "metadata": {},
     "output_type": "execute_result"
    }
   ],
   "source": [
    "df.head()"
   ]
  },
  {
   "cell_type": "code",
   "execution_count": 10,
   "metadata": {},
   "outputs": [
    {
     "name": "stdout",
     "output_type": "stream",
     "text": [
      "n/a         4025\n",
      "Max          999\n",
      "Bella        769\n",
      "Lucky        710\n",
      "Rocky        685\n",
      "Coco         661\n",
      "Buddy        599\n",
      "Charlie      577\n",
      "Princess     575\n",
      "Lola         551\n",
      "Name: dog_name, dtype: int64\n"
     ]
    }
   ],
   "source": [
    "print(df.dog_name.value_counts()[:10])"
   ]
  },
  {
   "cell_type": "code",
   "execution_count": null,
   "metadata": {},
   "outputs": [],
   "source": [
    "df.dog_name = df.dog_name.str.lower()"
   ]
  },
  {
   "cell_type": "code",
   "execution_count": null,
   "metadata": {},
   "outputs": [],
   "source": [
    "df.dog_name.value_counts()\n",
    "df.dog_name.nunique()"
   ]
  },
  {
   "cell_type": "code",
   "execution_count": null,
   "metadata": {},
   "outputs": [],
   "source": [
    "df.groupby('guard_or_trained').breed.value_counts()"
   ]
  },
  {
   "cell_type": "code",
   "execution_count": null,
   "metadata": {},
   "outputs": [],
   "source": [
    "pd.crosstab(df.breed,df.guard_or_trained).sort_values('Yes', ascending=False)"
   ]
  },
  {
   "cell_type": "code",
   "execution_count": null,
   "metadata": {},
   "outputs": [],
   "source": [
    "df.groupby('guard_or_trained').borough.value_counts()"
   ]
  },
  {
   "cell_type": "code",
   "execution_count": null,
   "metadata": {},
   "outputs": [],
   "source": [
    "df.groupby('spayed_or_neutered').gender.value_counts().plot(kind='area')"
   ]
  },
  {
   "cell_type": "code",
   "execution_count": null,
   "metadata": {
    "collapsed": true
   },
   "outputs": [],
   "source": []
  }
 ],
 "metadata": {
  "anaconda-cloud": {},
  "kernelspec": {
   "display_name": "Python 3",
   "language": "python",
   "name": "python3"
  },
  "language_info": {
   "codemirror_mode": {
    "name": "ipython",
    "version": 3
   },
   "file_extension": ".py",
   "mimetype": "text/x-python",
   "name": "python",
   "nbconvert_exporter": "python",
   "pygments_lexer": "ipython3",
   "version": "3.6.2"
  }
 },
 "nbformat": 4,
 "nbformat_minor": 1
}
